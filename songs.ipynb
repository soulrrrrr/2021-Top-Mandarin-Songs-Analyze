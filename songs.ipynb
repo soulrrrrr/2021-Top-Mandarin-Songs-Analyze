{
 "cells": [
  {
   "cell_type": "code",
   "execution_count": 6,
   "metadata": {},
   "outputs": [],
   "source": [
    "# -*- encoding: utf8-*-#coding:utf-8\n",
    "import requests\n",
    "import time\n",
    "import random\n",
    "import json\n",
    "from bs4 import BeautifulSoup\n",
    "import re\n",
    "from selenium import webdriver\n",
    "from selenium.webdriver.edge.options import Options\n",
    "from selenium.webdriver.common.by import By\n",
    "from selenium.webdriver.support.ui import WebDriverWait\n",
    "from selenium.webdriver.support import expected_conditions as EC\n",
    "#print(json.dumps(return_json, indent=2))"
   ]
  },
  {
   "cell_type": "code",
   "execution_count": 7,
   "metadata": {},
   "outputs": [],
   "source": [
    "def get_top_songs():\n",
    "    top_songs = []\n",
    "\n",
    "    headers = {'Referer': 'https://kma.kkbox.com/charts/yearly/newrelease?lang=tc&terr=tw',\n",
    "                'User-Agent': 'Mozilla/5.0 (Windows NT 10.0; Win64; x64) AppleWebKit/537.36 (KHTML, like Gecko) Chrome/97.0.4692.71 Safari/537.36 Edg/97.0.1072.55',\n",
    "                'Content-Type': 'application/json'}\n",
    "    url = 'https://kma.kkbox.com/charts/api/v1/yearly?category=297&lang=tc&limit=100&terr=tw&type=newrelease&year=2021'\n",
    "    \n",
    "    return_data = requests.get(url, headers=headers)\n",
    "    return_json = json.loads(return_data.text)\n",
    "\n",
    "    for song in return_json['data']['charts']['newrelease']:\n",
    "        top_songs.append(re.split(' -| \\(', song['song_name'])[0])\n",
    "    \n",
    "    return top_songs"
   ]
  },
  {
   "cell_type": "code",
   "execution_count": 8,
   "metadata": {},
   "outputs": [],
   "source": [
    "# 獲取樂譜頁面\n",
    "def get_pu(song_name):\n",
    "\n",
    "    url = 'https://www.91pu.com.tw/plus/search.php?keyword=' + song_name + '&type='\n",
    "\n",
    "    return_html = requests.get(url)\n",
    "    soup = BeautifulSoup(return_html.text, 'html.parser')\n",
    "    pu_url = 'https://www.91pu.com.tw' + soup.select('td > a')[0].get('href')\n",
    "\n",
    "    return pu_url"
   ]
  },
  {
   "cell_type": "code",
   "execution_count": 9,
   "metadata": {},
   "outputs": [],
   "source": [
    "def get_chords_and_lyrics(pu_url):\n",
    "    chord, lyric = [], []\n",
    "\n",
    "    options = Options()\n",
    "    options.add_argument(\"--disable-notifications\")\n",
    "    options.headless = True\n",
    "\n",
    "    driver = webdriver.Edge(options=options)\n",
    "    driver.implicitly_wait(3)\n",
    "    driver.get(pu_url)\n",
    "    soup = BeautifulSoup(driver.page_source, 'html.parser')\n",
    "\n",
    "    #tone = soup.find(id='tone_z').find_all('p')\n",
    "    tone = soup.find(id='tone_z').find_all('p')\n",
    "    # print(tone)\n",
    "    clean = re.compile('<.*?>')\n",
    "    nbsp = re.compile(u'\\xa0+')\n",
    "    for tags in tone:\n",
    "        output = tags.text\n",
    "        output = re.sub(clean, '', output)\n",
    "        output = re.sub(nbsp, ' ', output)\n",
    "        print(output)\n",
    "        \n",
    "        classes = tags.get('class')\n",
    "        if 'music' in classes:\n",
    "            chord.append(output)\n",
    "        elif 'lyric' in classes:\n",
    "            lyric.append(output)\n",
    "    driver.quit()\n",
    "    return chord, lyric"
   ]
  },
  {
   "cell_type": "code",
   "execution_count": null,
   "metadata": {},
   "outputs": [],
   "source": [
    "top_songs = get_top_songs()\n",
    "\n",
    "chords = []\n",
    "lyrics = []\n",
    "for i in range(100):\n",
    "    try:\n",
    "        pu_url = get_pu(top_songs[i])\n",
    "        chord, lyric = get_chords_and_lyrics(pu_url)\n",
    "        chords.append(chord)\n",
    "        lyrics.append(lyric)\n",
    "    except:\n",
    "        chords.append([])\n",
    "        lyrics.append([])\n",
    "\n",
    "\n",
    "print(lyrics[37])"
   ]
  },
  {
   "cell_type": "code",
   "execution_count": 12,
   "metadata": {},
   "outputs": [
    {
     "name": "stdout",
     "output_type": "stream",
     "text": [
      "[前奏] |G |G |Em |Em |C |C |D |D |\n",
      " \n",
      " |G |G |\n",
      " 人群 煙火 香檳和氣球 是你 帶我 從派對逃走\n",
      " |Em |Em |\n",
      " 逃離 人間 耳語和騷動 這裏 只有 你我和星空\n",
      " |C |C |\n",
      " 你是 何時 靜靜靠近我 你是 何時 偷偷拯救我\n",
      " |D |D |\n",
      " 在我 掌心 放了 一顆糖果\n",
      " |G |G |\n",
      " 1.人類 為何 都愛看天空 背上 卻都 有一對傷口\n",
      " |Em |Em |\n",
      "▲2.人生 只是 須臾的剎那 人間 只是 天地的夾縫\n",
      " |C |C |\n",
      " 1.生在 這個 凡人的星球 是否 不配 作天使的夢\n",
      " |D |D |\n",
      " 2.人們 何苦 要活成修羅 活在 執著 對錯的牢籠\n",
      " |G |G |Em |Em |\n",
      " 1.你將 你的 翅膀給了我 帶我 穿越 狼群和鏡頭\n",
      " |C |C |D |D |\n",
      " 2.是你 幫我 停下了沙漏 是你 教我 別害怕闖禍\n",
      " |G |G |Em |Em |\n",
      " 1.讓我 能夠 品嘗 片刻自由\n",
      " |C |C |D |D |\n",
      " 2.是你 讓我 活得 與眾不同\n",
      "[間奏2] |F |G |F |D | (回★)\n",
      " \n",
      " |G |G |Em |Em |\n",
      "★因為你 所以我 愛上那 片天空 天空下 我在祈求 那是你 牽著我 \n",
      " |C |C |D |D |\n",
      " 最深刻 的故事 最永恆 的傳說 不過 是你 是我 能夠 平凡生活\n",
      "[尾奏] |G |G |Em |Em |C |C |D |D |G |\n",
      " \n"
     ]
    }
   ],
   "source": [
    "for i in range(len(chords[5])):\n",
    "    print(chords[5][i])\n",
    "    print(lyrics[5][i])\n"
   ]
  },
  {
   "cell_type": "code",
   "execution_count": 13,
   "metadata": {},
   "outputs": [
    {
     "name": "stdout",
     "output_type": "stream",
     "text": [
      "['愛情你比我想的閣較偉大', '在這座城市遺失了你', '我很好騙', '四季予你', '阿拉斯加海灣', '因為你 所以我', '白月光與朱砂痣', '失重前幸褔', '如果能幸福', '星辰大海', '如果可以', '唯一', '清空', '漸冷', '緩緩', '愛我的時候', '醜人多作怪', '寫一條歌，寫你我爾爾', '我不需要每一個人都愛我', '我這個人', '玻璃心', '因為是你', '最美的風景', '離開你以後', '潛台詞', '不完美的我', '平凡天使', 'Sweet Baby', '平行世界', '日環食', '你不屬於我', '過', '青空未來', '各自安好', '想啊,想著你', '把回憶拼好給你', 'Till My Ride Comes', '繞', 'HAVE A NICE DAY', '三個字', '懂得雨天', '薩哈星球', '超能力', 'better off without you', '忘了沒有', '白色', '藍色天空', '勇氣', '規則就是用來打破的', '同樣一個你', '餘額', '蚵仔麵線', '終究還是因為愛', '刻在我心底的名字', 'FatBoyGang', '我是誰', '笑著回家', 'Fall in Love', '未發送', '兜轉', '星星', 'Tides', '用破碎的心修好破碎的心', '小心翻閱', '戀曲2020', '走建國路回家但後座少ㄌ泥', '閣愛妳一擺', '甘蔗掰掰', '與海無關', '你好嗎', '絕美', '再也沒有你', '跟自己對話', '來遲', '要怎麼告訴你我多喜歡', '淪陷', '無間鳥', '癡人說夢', '錯季', 'TA', '抱一抱一下', '山山', '運氣來得若有似無', '遺失的靈魂', '餘地', '裹著心的光', '我常常想起你', '我們', '請你嫁給我', '郵票', '送予你的歌', '醒不來的夢', 'Bring you to life', '迷失幻境', '最後一秒鐘', '假如我是你', '橙色的夢', '最悲傷的事', \"Don't Be Afraid\", '對等關係']\n"
     ]
    }
   ],
   "source": [
    "print(top_songs)"
   ]
  }
 ],
 "metadata": {
  "interpreter": {
   "hash": "31f2aee4e71d21fbe5cf8b01ff0e069b9275f58929596ceb00d14d90e3e16cd6"
  },
  "kernelspec": {
   "display_name": "Python 3.8.10 64-bit",
   "language": "python",
   "name": "python3"
  },
  "language_info": {
   "codemirror_mode": {
    "name": "ipython",
    "version": 3
   },
   "file_extension": ".py",
   "mimetype": "text/x-python",
   "name": "python",
   "nbconvert_exporter": "python",
   "pygments_lexer": "ipython3",
   "version": "3.10.1"
  },
  "orig_nbformat": 4
 },
 "nbformat": 4,
 "nbformat_minor": 2
}
