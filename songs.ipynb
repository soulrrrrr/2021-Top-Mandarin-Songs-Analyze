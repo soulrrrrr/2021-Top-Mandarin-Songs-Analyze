{
 "cells": [
  {
   "cell_type": "code",
   "execution_count": 20,
   "metadata": {},
   "outputs": [],
   "source": [
    "# -*- encoding: utf8-*-\n",
    "import requests\n",
    "import time\n",
    "import random\n",
    "import json\n",
    "from bs4 import BeautifulSoup\n",
    "import re\n",
    "from selenium import webdriver\n",
    "from selenium.webdriver.edge.options import Options\n",
    "from selenium.webdriver.common.by import By\n",
    "from selenium.webdriver.support.ui import WebDriverWait\n",
    "from selenium.webdriver.support import expected_conditions as EC\n",
    "from tqdm import tqdm\n",
    "#print(json.dumps(return_json, indent=2))"
   ]
  },
  {
   "cell_type": "code",
   "execution_count": null,
   "metadata": {},
   "outputs": [],
   "source": [
    "def get_top_songs():\n",
    "    top_songs = []\n",
    "\n",
    "    headers = {'Referer': 'https://kma.kkbox.com/charts/yearly/newrelease?lang=tc&terr=tw',\n",
    "                'User-Agent': 'Mozilla/5.0 (Windows NT 10.0; Win64; x64) AppleWebKit/537.36 (KHTML, like Gecko) Chrome/97.0.4692.71 Safari/537.36 Edg/97.0.1072.55',\n",
    "                'Content-Type': 'application/json'}\n",
    "    url = 'https://kma.kkbox.com/charts/api/v1/yearly?category=297&lang=tc&limit=100&terr=tw&type=newrelease&year=2021'\n",
    "    \n",
    "    return_data = requests.get(url, headers=headers)\n",
    "    return_json = json.loads(return_data.text)\n",
    "    #print(json.dumps(return_json, indent=2))\n",
    "\n",
    "    for song in return_json['data']['charts']['newrelease']:\n",
    "        top_songs.append(re.split(' -| \\(', song['song_name'])[0] + ' ' + song['artist_name'])\n",
    "    \n",
    "    return top_songs"
   ]
  },
  {
   "cell_type": "code",
   "execution_count": null,
   "metadata": {},
   "outputs": [],
   "source": [
    "# 獲取樂譜頁面\n",
    "def get_pu(song_name):\n",
    "\n",
    "    url = 'https://www.google.com/search?q=' + song_name + ' 91譜'\n",
    "    print(url)\n",
    "    return_html = requests.get(url)\n",
    "    soup = BeautifulSoup(return_html.text, 'html.parser')\n",
    "    pu_url=''\n",
    "    for tags in soup.find_all('a'):\n",
    "        #print(tags.get('href'))\n",
    "        if re.match(r'https://www.91pu.com.tw', tags.get('href')) != None:\n",
    "            #print(tags.get('href'))\n",
    "            pu_url = tags.get('href')\n",
    "            pu_url = re.sub('.*https', 'https', pu_url)\n",
    "            pu_url = re.sub('html.*', 'html', pu_url)\n",
    "            break \n",
    "    #print(pu_url)\n",
    "    if re.search(r'song', pu_url) == None:\n",
    "        return \"\"\n",
    "    return pu_url"
   ]
  },
  {
   "cell_type": "code",
   "execution_count": null,
   "metadata": {},
   "outputs": [],
   "source": [
    "def get_chords_and_lyrics(pu_url):\n",
    "    tot = []\n",
    "    options = Options()\n",
    "    options.add_argument(\"--disable-notifications\")\n",
    "    options.headless = True\n",
    "    driver = webdriver.Edge(options=options)\n",
    "    driver.implicitly_wait(3)\n",
    "\n",
    "    driver.get(pu_url)\n",
    "    soup = BeautifulSoup(driver.page_source, 'html.parser')\n",
    "\n",
    "    tone = soup.find(id='tone_z').find_all('p')\n",
    "    clean = re.compile('<.*?>')\n",
    "    nbsp = re.compile(u'\\xa0+')\n",
    "    emsp = re.compile('\\u2003')\n",
    "    for tags in tone:\n",
    "        output = tags.text\n",
    "        output = re.sub(clean, '', output)\n",
    "        output = re.sub(nbsp, ' ', output)\n",
    "        output = re.sub(emsp, ' ', output)\n",
    "        tot.append(output)\n",
    "    driver.quit()\n",
    "    return tot"
   ]
  },
  {
   "cell_type": "code",
   "execution_count": 26,
   "metadata": {},
   "outputs": [
    {
     "name": "stderr",
     "output_type": "stream",
     "text": [
      "100%|██████████| 10/10 [04:56<00:00, 29.67s/it]\n"
     ]
    }
   ],
   "source": [
    "def main():\n",
    "    top_songs = get_top_songs()\n",
    "\n",
    "    tots = []\n",
    "    for i in tqdm(range(100)):\n",
    "        try:\n",
    "            pu_url = get_pu(top_songs[i])\n",
    "            if pu_url == '':\n",
    "                raise ValueError('Can\\'t find pu_url!')\n",
    "            tot = get_chords_and_lyrics(pu_url)\n",
    "            tots.append(tot)\n",
    "        except:\n",
    "            tots.append(['no data'])\n",
    "    \n",
    "    # write file\n",
    "    f = open('total4.txt', \"w\", encoding='UTF-8')\n",
    "    num = 0\n",
    "    for i in tots:\n",
    "        f.write(top_songs[num]+\"\\n\")\n",
    "        for j in i:\n",
    "            f.write(j + \"\\n\")\n",
    "        f.write(\"\\n\")\n",
    "        num += 1\n",
    "    f.close()"
   ]
  },
  {
   "cell_type": "code",
   "execution_count": null,
   "metadata": {},
   "outputs": [],
   "source": [
    "if __name__ == \"__main__\":\n",
    "    main()"
   ]
  },
  {
   "cell_type": "code",
   "execution_count": null,
   "metadata": {},
   "outputs": [],
   "source": [
    "# song_name='失重前幸福'\n",
    "\n",
    "# pu_url = get_pu(song_name)\n",
    "# tot = get_chords_and_lyrics(pu_url)\n",
    "# print(tot)"
   ]
  },
  {
   "cell_type": "code",
   "execution_count": null,
   "metadata": {},
   "outputs": [],
   "source": [
    "\n",
    "# f = open('total.txt', \"a\", encoding='UTF-8')\n",
    "# f.write(song_name+\"\\n\")\n",
    "# for j in tot:\n",
    "#     f.write(j + '\\n')\n",
    "# f.write(\"\\n\")\n",
    "# f.close()"
   ]
  },
  {
   "cell_type": "code",
   "execution_count": null,
   "metadata": {},
   "outputs": [],
   "source": [
    "#top_songs = get_top_songs()\n",
    "# ff = open('song2.txt', 'w', encoding='utf-8')\n",
    "# for i in range(50):\n",
    "#     ff.write(top_songs[i] + ' ' + top_artists[i] + '\\n')\n",
    "# ff.close()"
   ]
  },
  {
   "cell_type": "code",
   "execution_count": null,
   "metadata": {},
   "outputs": [],
   "source": [
    "# print(top_artists)"
   ]
  }
 ],
 "metadata": {
  "interpreter": {
   "hash": "31f2aee4e71d21fbe5cf8b01ff0e069b9275f58929596ceb00d14d90e3e16cd6"
  },
  "kernelspec": {
   "display_name": "Python 3.8.10 64-bit",
   "language": "python",
   "name": "python3"
  },
  "language_info": {
   "codemirror_mode": {
    "name": "ipython",
    "version": 3
   },
   "file_extension": ".py",
   "mimetype": "text/x-python",
   "name": "python",
   "nbconvert_exporter": "python",
   "pygments_lexer": "ipython3",
   "version": "3.10.1"
  },
  "orig_nbformat": 4
 },
 "nbformat": 4,
 "nbformat_minor": 2
}
